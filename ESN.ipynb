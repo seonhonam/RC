{
  "nbformat": 4,
  "nbformat_minor": 0,
  "metadata": {
    "colab": {
      "name": "ESN.ipynb",
      "version": "0.3.2",
      "provenance": [],
      "include_colab_link": true
    },
    "kernelspec": {
      "name": "python3",
      "display_name": "Python 3"
    },
    "accelerator": "TPU"
  },
  "cells": [
    {
      "cell_type": "markdown",
      "metadata": {
        "id": "view-in-github",
        "colab_type": "text"
      },
      "source": [
        "[View in Colaboratory](https://colab.research.google.com/github/seonhonam/RC/blob/master/ESN.ipynb)"
      ]
    },
    {
      "metadata": {
        "id": "nDJPomBOtPSn",
        "colab_type": "code",
        "colab": {}
      },
      "cell_type": "code",
      "source": [
        "import tensorflow as tf\n",
        "import numpy as np\n",
        "import networkx as nx"
      ],
      "execution_count": 0,
      "outputs": []
    },
    {
      "metadata": {
        "id": "OnujVknGx5b5",
        "colab_type": "code",
        "colab": {}
      },
      "cell_type": "code",
      "source": [
        "n_inputs = 100\n",
        "n_reservoir = n_inputs*100\n",
        "n_readout_inputs = n_inputs*10\n",
        "n_readout_hidden1 = 400\n",
        "n_readout_hidden2 = 400\n",
        "n_readout_hidden3 = 200\n",
        "n_readout_outputs = 100\n",
        "n_steps = 10"
      ],
      "execution_count": 0,
      "outputs": []
    },
    {
      "metadata": {
        "id": "OFzd5UO40m1A",
        "colab_type": "code",
        "colab": {}
      },
      "cell_type": "code",
      "source": [
        "X = tf.placeholder(tf.float32, [None, n_steps, n_inputs], name = \"X\")\n",
        "y = tf.placeholder(tf.float32, [None, n_steps, n_readout_outputs], name = \"y\")"
      ],
      "execution_count": 0,
      "outputs": []
    },
    {
      "metadata": {
        "id": "-VSMS9fg3YFX",
        "colab_type": "code",
        "colab": {}
      },
      "cell_type": "code",
      "source": [
        "#reservoir layer를 만들어 준다\n",
        "def reservoir_layer(X,n_reservoir,internal_network, before_reservoir_state,\n",
        "                   name):\n",
        "  with tf.name_scope(\"name\"):\n",
        "    n_inputs = int(X.get_shape()[1])\n",
        "    stddev = 2/np.sqrt(n_inputs + n_reservoir)\n",
        "    W_in = tf.constant(tf.truncated_normal((n_inputs, n_resevoir),\n",
        "                                           stddev = stddev))\n",
        "    W = tf.constant(internal_network)\n",
        "    if before_reservoir_state is None:\n",
        "      Z = tf.matmul(X, W_in)\n",
        "    else:\n",
        "      Z = tf.matmul(X, W_in)+tf.matmul(before_reservoir_state, W)\n",
        "    return Z"
      ],
      "execution_count": 0,
      "outputs": []
    },
    {
      "metadata": {
        "id": "EyocQGMEIt8m",
        "colab_type": "code",
        "colab": {}
      },
      "cell_type": "code",
      "source": [
        "# network에 들어갈 adjacency matrix를 만든다\n",
        "#ER Random network의 adjacency matirx\n",
        "def ERN(n_node,p):\n",
        "  g = nx.erdos_renyi_graph(n_node,p,seed=2,directed=True)\n",
        "  adm = np.array(nx.adj_matrix(g).todense())\n",
        "  return adm"
      ],
      "execution_count": 0,
      "outputs": []
    },
    {
      "metadata": {
        "id": "oUcKQaW9KK6I",
        "colab_type": "code",
        "colab": {}
      },
      "cell_type": "code",
      "source": [
        ""
      ],
      "execution_count": 0,
      "outputs": []
    },
    {
      "metadata": {
        "id": "-dObSs7UMG0o",
        "colab_type": "code",
        "colab": {}
      },
      "cell_type": "code",
      "source": [
        ""
      ],
      "execution_count": 0,
      "outputs": []
    }
  ]
}