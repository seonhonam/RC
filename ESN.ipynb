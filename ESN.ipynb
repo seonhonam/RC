{
  "nbformat": 4,
  "nbformat_minor": 0,
  "metadata": {
    "colab": {
      "name": "ESN.ipynb",
      "version": "0.3.2",
      "provenance": [],
      "include_colab_link": true
    },
    "kernelspec": {
      "name": "python3",
      "display_name": "Python 3"
    },
    "accelerator": "TPU"
  },
  "cells": [
    {
      "cell_type": "markdown",
      "metadata": {
        "id": "view-in-github",
        "colab_type": "text"
      },
      "source": [
        "[View in Colaboratory](https://colab.research.google.com/github/seonhonam/RC/blob/master/ESN.ipynb)"
      ]
    },
    {
      "metadata": {
        "id": "nDJPomBOtPSn",
        "colab_type": "code",
        "colab": {}
      },
      "cell_type": "code",
      "source": [
        "import tensorflow as tf\n",
        "import numpy as np\n",
        "import networkx as nx"
      ],
      "execution_count": 0,
      "outputs": []
    },
    {
      "metadata": {
        "id": "OnujVknGx5b5",
        "colab_type": "code",
        "colab": {}
      },
      "cell_type": "code",
      "source": [
        "n_inputs = 10\n",
        "n_reservoir = n_inputs*100\n",
        "n_readout_hidden1 = 400\n",
        "n_readout_hidden2 = 400\n",
        "n_readout_hidden3 = 200\n",
        "n_readout_outputs = 10\n",
        "n_steps = 10"
      ],
      "execution_count": 0,
      "outputs": []
    },
    {
      "metadata": {
        "id": "OFzd5UO40m1A",
        "colab_type": "code",
        "colab": {}
      },
      "cell_type": "code",
      "source": [
        "X = tf.placeholder(tf.float32, [None, n_inputs], name = \"X\")\n",
        "y = tf.placeholder(tf.float32, [None, n_readout_outputs], name = \"y\")"
      ],
      "execution_count": 0,
      "outputs": []
    },
    {
      "metadata": {
        "id": "-VSMS9fg3YFX",
        "colab_type": "code",
        "colab": {}
      },
      "cell_type": "code",
      "source": [
        "#reservoir layer를 만들어 준다\n",
        "def reservoir_layer(X,n_reservoir,internal_network, before_reservoir_state,\n",
        "                   name):\n",
        "  with tf.name_scope(\"name\"):\n",
        "    n_inputs = int(X.get_shape()[1])\n",
        "    stddev = 2/np.sqrt(n_inputs + n_reservoir)\n",
        "    W_in = tf.Variable(tf.truncated_normal((n_inputs, n_reservoir),\n",
        "                                           stddev = stddev))\n",
        "    W = tf.Variable(internal_network)\n",
        "    if before_reservoir_state == 0:\n",
        "      Z = tf.matmul(X, W_in)\n",
        "    else:\n",
        "      Z = tf.matmul(X, W_in)+tf.matmul(before_reservoir_state, W)\n",
        "    return Z"
      ],
      "execution_count": 0,
      "outputs": []
    },
    {
      "metadata": {
        "id": "EyocQGMEIt8m",
        "colab_type": "code",
        "colab": {}
      },
      "cell_type": "code",
      "source": [
        "# network에 들어갈 adjacency matrix를 만든다\n",
        "#ER Random network의 adjacency matirx\n",
        "def ERN(n_node,p):\n",
        "  g = nx.erdos_renyi_graph(n_node,p,seed=2,directed=True)\n",
        "  adm = np.array(nx.adj_matrix(g).todense())\n",
        "  return adm\n",
        "inter_net = ERN(n_reservoir,0.4)"
      ],
      "execution_count": 0,
      "outputs": []
    },
    {
      "metadata": {
        "id": "oUcKQaW9KK6I",
        "colab_type": "code",
        "colab": {}
      },
      "cell_type": "code",
      "source": [
        "#네트워크 모델을 만든다\n",
        "with tf.name_scope(\"ESN\"):\n",
        "  before_reservoir = 0\n",
        "  reservoir= reservoir_layer(X, n_reservoir, inter_net, before_reservoir, \n",
        "                             name=\"reservoir\")\n",
        "  before_reservoir = reservoir\n",
        "  reservoir_stop = tf.stop_gradient(reservoir)\n",
        "  hidden1 = tf.layers.dense(reservoir, n_readout_hidden1, name = \"hidden1\", \n",
        "                           activation = tf.nn.elu)\n",
        "  hidden2 = tf.layers.dense(hidden1, n_readout_hidden2, name = \"hidden2\",\n",
        "                           activation = tf.nn.elu)\n",
        "  hidden3 = tf.layers.dense(hidden2, n_readout_hidden3, name = \"hidden3\",\n",
        "                           activation = tf.nn.elu)\n",
        "  logits = tf.layers.dense(hidden3, n_readout_outputs)"
      ],
      "execution_count": 0,
      "outputs": []
    },
    {
      "metadata": {
        "id": "-dObSs7UMG0o",
        "colab_type": "code",
        "colab": {}
      },
      "cell_type": "code",
      "source": [
        ""
      ],
      "execution_count": 0,
      "outputs": []
    }
  ]
}